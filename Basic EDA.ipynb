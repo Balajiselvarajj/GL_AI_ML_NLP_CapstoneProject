{
 "cells": [
  {
   "cell_type": "markdown",
   "metadata": {},
   "source": [
    "# Automatic Ticket Assignment"
   ]
  },
  {
   "cell_type": "markdown",
   "metadata": {},
   "source": [
    "Importing standard libraries"
   ]
  },
  {
   "cell_type": "code",
   "execution_count": 1,
   "metadata": {},
   "outputs": [],
   "source": [
    "import warnings\n",
    "warnings.filterwarnings('ignore')\n",
    "\n",
    "import numpy as np\n",
    "import pandas as pd\n",
    "\n",
    "# Data Visualization\n",
    "import matplotlib.pyplot as plt\n",
    "%matplotlib inline\n",
    "import seaborn as sns"
   ]
  },
  {
   "cell_type": "markdown",
   "metadata": {},
   "source": [
    "Importing Standard NLP Libraries"
   ]
  },
  {
   "cell_type": "code",
   "execution_count": 2,
   "metadata": {},
   "outputs": [],
   "source": [
    "#import Spacy\n",
    "import nltk\n",
    "from nltk import tokenize\n",
    "\n",
    "# wordcloud visualisation\n",
    "from wordcloud import WordCloud, STOPWORDS, ImageColorGenerator"
   ]
  },
  {
   "cell_type": "markdown",
   "metadata": {},
   "source": [
    "Importing Traditional Machine Learning Libraries"
   ]
  },
  {
   "cell_type": "code",
   "execution_count": 3,
   "metadata": {},
   "outputs": [
    {
     "name": "stderr",
     "output_type": "stream",
     "text": [
      "Using TensorFlow backend.\n"
     ]
    }
   ],
   "source": [
    "from sklearn.model_selection import train_test_split\n",
    "from sklearn.naive_bayes import MultinomialNB\n",
    "from sklearn.neighbors import KNeighborsClassifier\n",
    "from sklearn.pipeline import Pipeline\n",
    "from sklearn.feature_extraction.text import CountVectorizer, TfidfVectorizer, TfidfTransformer\n",
    "from sklearn.svm import SVC, LinearSVC\n",
    "from sklearn.tree import DecisionTreeClassifier\n",
    "from sklearn.ensemble import RandomForestClassifier\n",
    "\n",
    "# performance metics\n",
    "from sklearn.metrics import confusion_matrix, classification_report, auc\n",
    "from sklearn.metrics import roc_curve, accuracy_score, precision_recall_curve\n",
    "from sklearn.feature_extraction.text import CountVectorizer\n",
    "from imblearn.over_sampling import RandomOverSampler"
   ]
  },
  {
   "cell_type": "markdown",
   "metadata": {},
   "source": [
    "Importing Sequential Libraries"
   ]
  },
  {
   "cell_type": "code",
   "execution_count": 4,
   "metadata": {},
   "outputs": [],
   "source": [
    "import keras.backend as K\n",
    "from keras.datasets import imdb\n",
    "from keras.models import Sequential, Model\n",
    "from keras.layers.merge import Concatenate\n",
    "from keras.layers import Input, Dropout, Flatten, Dense, Embedding, LSTM, GRU\n",
    "from keras.layers import BatchNormalization, TimeDistributed, Conv1D, MaxPooling1D\n",
    "from keras.constraints import max_norm, unit_norm\n",
    "from keras.preprocessing.text import Tokenizer, text_to_word_sequence\n",
    "from keras.preprocessing.sequence import pad_sequences\n",
    "from keras.callbacks import EarlyStopping, ModelCheckpoint"
   ]
  },
  {
   "cell_type": "code",
   "execution_count": null,
   "metadata": {},
   "outputs": [],
   "source": []
  },
  {
   "cell_type": "code",
   "execution_count": null,
   "metadata": {},
   "outputs": [],
   "source": []
  },
  {
   "cell_type": "code",
   "execution_count": null,
   "metadata": {},
   "outputs": [],
   "source": []
  },
  {
   "cell_type": "code",
   "execution_count": null,
   "metadata": {},
   "outputs": [],
   "source": []
  },
  {
   "cell_type": "raw",
   "metadata": {},
   "source": [
    "print('A class has been created for better formatting!')\n",
    "class color:\n",
    "   PURPLE = '\\033[95m'\n",
    "   CYAN = '\\033[96m'\n",
    "   DARKCYAN = '\\033[36m'\n",
    "   BLUE = '\\033[94m'\n",
    "   GREEN = '\\033[92m'\n",
    "   YELLOW = '\\033[93m'\n",
    "   RED = '\\033[91m'\n",
    "   BOLD = '\\033[1m'\n",
    "   UNDERLINE = '\\033[4m'\n",
    "   END = '\\033[0m'"
   ]
  },
  {
   "cell_type": "code",
   "execution_count": null,
   "metadata": {},
   "outputs": [],
   "source": []
  },
  {
   "cell_type": "markdown",
   "metadata": {},
   "source": [
    "Load the dataset"
   ]
  },
  {
   "cell_type": "code",
   "execution_count": 5,
   "metadata": {},
   "outputs": [
    {
     "name": "stdout",
     "output_type": "stream",
     "text": [
      "Printing the first 5 rows of the dataset\n"
     ]
    },
    {
     "data": {
      "text/html": [
       "<div>\n",
       "<style scoped>\n",
       "    .dataframe tbody tr th:only-of-type {\n",
       "        vertical-align: middle;\n",
       "    }\n",
       "\n",
       "    .dataframe tbody tr th {\n",
       "        vertical-align: top;\n",
       "    }\n",
       "\n",
       "    .dataframe thead th {\n",
       "        text-align: right;\n",
       "    }\n",
       "</style>\n",
       "<table border=\"1\" class=\"dataframe\">\n",
       "  <thead>\n",
       "    <tr style=\"text-align: right;\">\n",
       "      <th></th>\n",
       "      <th>Short description</th>\n",
       "      <th>Description</th>\n",
       "      <th>Caller</th>\n",
       "      <th>Assignment group</th>\n",
       "    </tr>\n",
       "  </thead>\n",
       "  <tbody>\n",
       "    <tr>\n",
       "      <th>0</th>\n",
       "      <td>login issue</td>\n",
       "      <td>-verified user details.(employee# &amp; manager na...</td>\n",
       "      <td>spxjnwir pjlcoqds</td>\n",
       "      <td>GRP_0</td>\n",
       "    </tr>\n",
       "    <tr>\n",
       "      <th>1</th>\n",
       "      <td>outlook</td>\n",
       "      <td>\\r\\n\\r\\nreceived from: hmjdrvpb.komuaywn@gmail...</td>\n",
       "      <td>hmjdrvpb komuaywn</td>\n",
       "      <td>GRP_0</td>\n",
       "    </tr>\n",
       "    <tr>\n",
       "      <th>2</th>\n",
       "      <td>cant log in to vpn</td>\n",
       "      <td>\\r\\n\\r\\nreceived from: eylqgodm.ybqkwiam@gmail...</td>\n",
       "      <td>eylqgodm ybqkwiam</td>\n",
       "      <td>GRP_0</td>\n",
       "    </tr>\n",
       "    <tr>\n",
       "      <th>3</th>\n",
       "      <td>unable to access hr_tool page</td>\n",
       "      <td>unable to access hr_tool page</td>\n",
       "      <td>xbkucsvz gcpydteq</td>\n",
       "      <td>GRP_0</td>\n",
       "    </tr>\n",
       "    <tr>\n",
       "      <th>4</th>\n",
       "      <td>skype error</td>\n",
       "      <td>skype error</td>\n",
       "      <td>owlgqjme qhcozdfx</td>\n",
       "      <td>GRP_0</td>\n",
       "    </tr>\n",
       "  </tbody>\n",
       "</table>\n",
       "</div>"
      ],
      "text/plain": [
       "               Short description  \\\n",
       "0                    login issue   \n",
       "1                        outlook   \n",
       "2             cant log in to vpn   \n",
       "3  unable to access hr_tool page   \n",
       "4                   skype error    \n",
       "\n",
       "                                         Description             Caller  \\\n",
       "0  -verified user details.(employee# & manager na...  spxjnwir pjlcoqds   \n",
       "1  \\r\\n\\r\\nreceived from: hmjdrvpb.komuaywn@gmail...  hmjdrvpb komuaywn   \n",
       "2  \\r\\n\\r\\nreceived from: eylqgodm.ybqkwiam@gmail...  eylqgodm ybqkwiam   \n",
       "3                      unable to access hr_tool page  xbkucsvz gcpydteq   \n",
       "4                                       skype error   owlgqjme qhcozdfx   \n",
       "\n",
       "  Assignment group  \n",
       "0            GRP_0  \n",
       "1            GRP_0  \n",
       "2            GRP_0  \n",
       "3            GRP_0  \n",
       "4            GRP_0  "
      ]
     },
     "execution_count": 5,
     "metadata": {},
     "output_type": "execute_result"
    }
   ],
   "source": [
    "# Load the dataset into a Pandas dataframe called ticket and check the head of the dataset\n",
    "df = pd.read_excel('Input Data Synthetic (created but not used in our project).xlsx')\n",
    "print('Printing the first 5 rows of the dataset')\n",
    "df.head()"
   ]
  },
  {
   "cell_type": "code",
   "execution_count": 6,
   "metadata": {},
   "outputs": [
    {
     "name": "stdout",
     "output_type": "stream",
     "text": [
      "Printing the last 5 rows of the dataset\n"
     ]
    },
    {
     "data": {
      "text/html": [
       "<div>\n",
       "<style scoped>\n",
       "    .dataframe tbody tr th:only-of-type {\n",
       "        vertical-align: middle;\n",
       "    }\n",
       "\n",
       "    .dataframe tbody tr th {\n",
       "        vertical-align: top;\n",
       "    }\n",
       "\n",
       "    .dataframe thead th {\n",
       "        text-align: right;\n",
       "    }\n",
       "</style>\n",
       "<table border=\"1\" class=\"dataframe\">\n",
       "  <thead>\n",
       "    <tr style=\"text-align: right;\">\n",
       "      <th></th>\n",
       "      <th>Short description</th>\n",
       "      <th>Description</th>\n",
       "      <th>Caller</th>\n",
       "      <th>Assignment group</th>\n",
       "    </tr>\n",
       "  </thead>\n",
       "  <tbody>\n",
       "    <tr>\n",
       "      <th>8495</th>\n",
       "      <td>emails not coming in from zz mail</td>\n",
       "      <td>\\r\\n\\r\\nreceived from: avglmrts.vhqmtiua@gmail...</td>\n",
       "      <td>avglmrts vhqmtiua</td>\n",
       "      <td>GRP_29</td>\n",
       "    </tr>\n",
       "    <tr>\n",
       "      <th>8496</th>\n",
       "      <td>telephony_software issue</td>\n",
       "      <td>telephony_software issue</td>\n",
       "      <td>rbozivdq gmlhrtvp</td>\n",
       "      <td>GRP_0</td>\n",
       "    </tr>\n",
       "    <tr>\n",
       "      <th>8497</th>\n",
       "      <td>vip2: windows password reset for tifpdchb pedx...</td>\n",
       "      <td>vip2: windows password reset for tifpdchb pedx...</td>\n",
       "      <td>oybwdsgx oxyhwrfz</td>\n",
       "      <td>GRP_0</td>\n",
       "    </tr>\n",
       "    <tr>\n",
       "      <th>8498</th>\n",
       "      <td>machine nÃ£o estÃ¡ funcionando</td>\n",
       "      <td>i am unable to access the machine utilities to...</td>\n",
       "      <td>ufawcgob aowhxjky</td>\n",
       "      <td>GRP_62</td>\n",
       "    </tr>\n",
       "    <tr>\n",
       "      <th>8499</th>\n",
       "      <td>an mehreren pc`s lassen sich verschiedene prgr...</td>\n",
       "      <td>an mehreren pc`s lassen sich verschiedene prgr...</td>\n",
       "      <td>kqvbrspl jyzoklfx</td>\n",
       "      <td>GRP_49</td>\n",
       "    </tr>\n",
       "  </tbody>\n",
       "</table>\n",
       "</div>"
      ],
      "text/plain": [
       "                                      Short description  \\\n",
       "8495                  emails not coming in from zz mail   \n",
       "8496                           telephony_software issue   \n",
       "8497  vip2: windows password reset for tifpdchb pedx...   \n",
       "8498                     machine nÃ£o estÃ¡ funcionando   \n",
       "8499  an mehreren pc`s lassen sich verschiedene prgr...   \n",
       "\n",
       "                                            Description             Caller  \\\n",
       "8495  \\r\\n\\r\\nreceived from: avglmrts.vhqmtiua@gmail...  avglmrts vhqmtiua   \n",
       "8496                           telephony_software issue  rbozivdq gmlhrtvp   \n",
       "8497  vip2: windows password reset for tifpdchb pedx...  oybwdsgx oxyhwrfz   \n",
       "8498  i am unable to access the machine utilities to...  ufawcgob aowhxjky   \n",
       "8499  an mehreren pc`s lassen sich verschiedene prgr...  kqvbrspl jyzoklfx   \n",
       "\n",
       "     Assignment group  \n",
       "8495           GRP_29  \n",
       "8496            GRP_0  \n",
       "8497            GRP_0  \n",
       "8498           GRP_62  \n",
       "8499           GRP_49  "
      ]
     },
     "execution_count": 6,
     "metadata": {},
     "output_type": "execute_result"
    }
   ],
   "source": [
    "print('Printing the last 5 rows of the dataset')\n",
    "df.tail()"
   ]
  },
  {
   "cell_type": "code",
   "execution_count": 7,
   "metadata": {},
   "outputs": [
    {
     "name": "stdout",
     "output_type": "stream",
     "text": [
      "The dataset contains\u001b[1m 8500\u001b[0m rows and\u001b[1m 4\u001b[0m columns.\n"
     ]
    }
   ],
   "source": [
    "print('The dataset contains\\033[1m {}\\033[0m rows and\\033[1m {}\\033[0m columns.'.format(df.shape[0], df.shape[1]))"
   ]
  },
  {
   "cell_type": "code",
   "execution_count": 8,
   "metadata": {},
   "outputs": [
    {
     "data": {
      "text/plain": [
       "Short description    8\n",
       "Description          1\n",
       "Caller               0\n",
       "Assignment group     0\n",
       "dtype: int64"
      ]
     },
     "execution_count": 8,
     "metadata": {},
     "output_type": "execute_result"
    }
   ],
   "source": [
    "df.isnull().sum()"
   ]
  },
  {
   "cell_type": "markdown",
   "metadata": {},
   "source": [
    "We have - \n",
    "  * **8 null/missing** values present in the Short Description column. \n",
    "  * **1 null/missing** values present in the Description column."
   ]
  },
  {
   "cell_type": "code",
   "execution_count": 9,
   "metadata": {},
   "outputs": [
    {
     "data": {
      "text/html": [
       "<div>\n",
       "<style scoped>\n",
       "    .dataframe tbody tr th:only-of-type {\n",
       "        vertical-align: middle;\n",
       "    }\n",
       "\n",
       "    .dataframe tbody tr th {\n",
       "        vertical-align: top;\n",
       "    }\n",
       "\n",
       "    .dataframe thead th {\n",
       "        text-align: right;\n",
       "    }\n",
       "</style>\n",
       "<table border=\"1\" class=\"dataframe\">\n",
       "  <thead>\n",
       "    <tr style=\"text-align: right;\">\n",
       "      <th></th>\n",
       "      <th>count</th>\n",
       "      <th>unique</th>\n",
       "      <th>top</th>\n",
       "      <th>freq</th>\n",
       "    </tr>\n",
       "  </thead>\n",
       "  <tbody>\n",
       "    <tr>\n",
       "      <th>Short description</th>\n",
       "      <td>8492</td>\n",
       "      <td>7481</td>\n",
       "      <td>password reset</td>\n",
       "      <td>38</td>\n",
       "    </tr>\n",
       "    <tr>\n",
       "      <th>Description</th>\n",
       "      <td>8499</td>\n",
       "      <td>7817</td>\n",
       "      <td>the</td>\n",
       "      <td>56</td>\n",
       "    </tr>\n",
       "    <tr>\n",
       "      <th>Caller</th>\n",
       "      <td>8500</td>\n",
       "      <td>2950</td>\n",
       "      <td>bpctwhsn kzqsbmtp</td>\n",
       "      <td>810</td>\n",
       "    </tr>\n",
       "    <tr>\n",
       "      <th>Assignment group</th>\n",
       "      <td>8500</td>\n",
       "      <td>74</td>\n",
       "      <td>GRP_0</td>\n",
       "      <td>3976</td>\n",
       "    </tr>\n",
       "  </tbody>\n",
       "</table>\n",
       "</div>"
      ],
      "text/plain": [
       "                  count unique                top  freq\n",
       "Short description  8492   7481     password reset    38\n",
       "Description        8499   7817                the    56\n",
       "Caller             8500   2950  bpctwhsn kzqsbmtp   810\n",
       "Assignment group   8500     74              GRP_0  3976"
      ]
     },
     "execution_count": 9,
     "metadata": {},
     "output_type": "execute_result"
    }
   ],
   "source": [
    "df.describe().T"
   ]
  },
  {
   "cell_type": "markdown",
   "metadata": {},
   "source": [
    "Following observation can be inferred from the above summary statistics of the columns:\n",
    "  * The most occuring tickets in the **Short Description** column is **\"Password Reset\"**.\n",
    "  * The most occuring tickets in the **Description** column is **\"the\"**.\n",
    "  * The most number of calls was made by the user **\"bpctwhsn kzqsbmtp\"** and the customer has made a total of **810** calls.\n",
    "  * A total of **3976** tickets have been assigned to **GRP_0**."
   ]
  },
  {
   "cell_type": "markdown",
   "metadata": {},
   "source": [
    "#### Analysis of column with NULL Values"
   ]
  },
  {
   "cell_type": "code",
   "execution_count": 10,
   "metadata": {},
   "outputs": [
    {
     "data": {
      "text/html": [
       "<div>\n",
       "<style scoped>\n",
       "    .dataframe tbody tr th:only-of-type {\n",
       "        vertical-align: middle;\n",
       "    }\n",
       "\n",
       "    .dataframe tbody tr th {\n",
       "        vertical-align: top;\n",
       "    }\n",
       "\n",
       "    .dataframe thead th {\n",
       "        text-align: right;\n",
       "    }\n",
       "</style>\n",
       "<table border=\"1\" class=\"dataframe\">\n",
       "  <thead>\n",
       "    <tr style=\"text-align: right;\">\n",
       "      <th></th>\n",
       "      <th>Short description</th>\n",
       "      <th>Description</th>\n",
       "      <th>Caller</th>\n",
       "      <th>Assignment group</th>\n",
       "    </tr>\n",
       "  </thead>\n",
       "  <tbody>\n",
       "    <tr>\n",
       "      <th>2604</th>\n",
       "      <td>NaN</td>\n",
       "      <td>\\r\\n\\r\\nreceived from: ohdrnswl.rezuibdt@gmail...</td>\n",
       "      <td>ohdrnswl rezuibdt</td>\n",
       "      <td>GRP_34</td>\n",
       "    </tr>\n",
       "    <tr>\n",
       "      <th>3383</th>\n",
       "      <td>NaN</td>\n",
       "      <td>\\r\\n-connected to the user system using teamvi...</td>\n",
       "      <td>qftpazns fxpnytmk</td>\n",
       "      <td>GRP_0</td>\n",
       "    </tr>\n",
       "    <tr>\n",
       "      <th>3906</th>\n",
       "      <td>NaN</td>\n",
       "      <td>-user unable  tologin to vpn.\\r\\n-connected to...</td>\n",
       "      <td>awpcmsey ctdiuqwe</td>\n",
       "      <td>GRP_0</td>\n",
       "    </tr>\n",
       "    <tr>\n",
       "      <th>3910</th>\n",
       "      <td>NaN</td>\n",
       "      <td>-user unable  tologin to vpn.\\r\\n-connected to...</td>\n",
       "      <td>rhwsmefo tvphyura</td>\n",
       "      <td>GRP_0</td>\n",
       "    </tr>\n",
       "    <tr>\n",
       "      <th>3915</th>\n",
       "      <td>NaN</td>\n",
       "      <td>-user unable  tologin to vpn.\\r\\n-connected to...</td>\n",
       "      <td>hxripljo efzounig</td>\n",
       "      <td>GRP_0</td>\n",
       "    </tr>\n",
       "    <tr>\n",
       "      <th>3921</th>\n",
       "      <td>NaN</td>\n",
       "      <td>-user unable  tologin to vpn.\\r\\n-connected to...</td>\n",
       "      <td>cziadygo veiosxby</td>\n",
       "      <td>GRP_0</td>\n",
       "    </tr>\n",
       "    <tr>\n",
       "      <th>3924</th>\n",
       "      <td>NaN</td>\n",
       "      <td>name:wvqgbdhm fwchqjor\\nlanguage:\\nbrowser:mic...</td>\n",
       "      <td>wvqgbdhm fwchqjor</td>\n",
       "      <td>GRP_0</td>\n",
       "    </tr>\n",
       "    <tr>\n",
       "      <th>4341</th>\n",
       "      <td>NaN</td>\n",
       "      <td>\\r\\n\\r\\nreceived from: eqmuniov.ehxkcbgj@gmail...</td>\n",
       "      <td>eqmuniov ehxkcbgj</td>\n",
       "      <td>GRP_0</td>\n",
       "    </tr>\n",
       "    <tr>\n",
       "      <th>4395</th>\n",
       "      <td>i am locked out of skype</td>\n",
       "      <td>NaN</td>\n",
       "      <td>viyglzfo ajtfzpkb</td>\n",
       "      <td>GRP_0</td>\n",
       "    </tr>\n",
       "  </tbody>\n",
       "</table>\n",
       "</div>"
      ],
      "text/plain": [
       "             Short description  \\\n",
       "2604                       NaN   \n",
       "3383                       NaN   \n",
       "3906                       NaN   \n",
       "3910                       NaN   \n",
       "3915                       NaN   \n",
       "3921                       NaN   \n",
       "3924                       NaN   \n",
       "4341                       NaN   \n",
       "4395  i am locked out of skype   \n",
       "\n",
       "                                            Description             Caller  \\\n",
       "2604  \\r\\n\\r\\nreceived from: ohdrnswl.rezuibdt@gmail...  ohdrnswl rezuibdt   \n",
       "3383  \\r\\n-connected to the user system using teamvi...  qftpazns fxpnytmk   \n",
       "3906  -user unable  tologin to vpn.\\r\\n-connected to...  awpcmsey ctdiuqwe   \n",
       "3910  -user unable  tologin to vpn.\\r\\n-connected to...  rhwsmefo tvphyura   \n",
       "3915  -user unable  tologin to vpn.\\r\\n-connected to...  hxripljo efzounig   \n",
       "3921  -user unable  tologin to vpn.\\r\\n-connected to...  cziadygo veiosxby   \n",
       "3924  name:wvqgbdhm fwchqjor\\nlanguage:\\nbrowser:mic...  wvqgbdhm fwchqjor   \n",
       "4341  \\r\\n\\r\\nreceived from: eqmuniov.ehxkcbgj@gmail...  eqmuniov ehxkcbgj   \n",
       "4395                                                NaN  viyglzfo ajtfzpkb   \n",
       "\n",
       "     Assignment group  \n",
       "2604           GRP_34  \n",
       "3383            GRP_0  \n",
       "3906            GRP_0  \n",
       "3910            GRP_0  \n",
       "3915            GRP_0  \n",
       "3921            GRP_0  \n",
       "3924            GRP_0  \n",
       "4341            GRP_0  \n",
       "4395            GRP_0  "
      ]
     },
     "execution_count": 10,
     "metadata": {},
     "output_type": "execute_result"
    }
   ],
   "source": [
    "df[pd.isnull(df).any(axis = 1)]"
   ]
  },
  {
   "cell_type": "code",
   "execution_count": 11,
   "metadata": {},
   "outputs": [
    {
     "name": "stdout",
     "output_type": "stream",
     "text": [
      "Replacing the NULL values with an empty string and verifying the output.\n"
     ]
    },
    {
     "data": {
      "text/plain": [
       "Short description    0\n",
       "Description          0\n",
       "Caller               0\n",
       "Assignment group     0\n",
       "dtype: int64"
      ]
     },
     "execution_count": 11,
     "metadata": {},
     "output_type": "execute_result"
    }
   ],
   "source": [
    "df.fillna(str(), inplace = True)\n",
    "print('Replacing the NULL values with an empty string and verifying the output.')\n",
    "df.isnull().sum()"
   ]
  },
  {
   "cell_type": "markdown",
   "metadata": {},
   "source": [
    "NULL / Missing values could have treated using multiple ways, such as:\n",
    "  * Replacing them with the most frequently occuring value (mode) of that column.\n",
    "  * Replacing them with any default values.\n",
    "  * Replacing them with an empty string.\n",
    "  * Dropping the rows with NULL values. Dropping rows was avoided altogether to avoid loss of any substantial information.\n",
    "  \n",
    "So, we have just replaced the NULL values with an empty string."
   ]
  },
  {
   "cell_type": "code",
   "execution_count": 12,
   "metadata": {},
   "outputs": [
    {
     "data": {
      "text/plain": [
       "74"
      ]
     },
     "execution_count": 12,
     "metadata": {},
     "output_type": "execute_result"
    }
   ],
   "source": [
    "df['Assignment group'].nunique()"
   ]
  },
  {
   "cell_type": "code",
   "execution_count": null,
   "metadata": {},
   "outputs": [],
   "source": []
  },
  {
   "cell_type": "code",
   "execution_count": null,
   "metadata": {},
   "outputs": [],
   "source": []
  },
  {
   "cell_type": "code",
   "execution_count": null,
   "metadata": {},
   "outputs": [],
   "source": []
  },
  {
   "cell_type": "code",
   "execution_count": null,
   "metadata": {},
   "outputs": [],
   "source": []
  },
  {
   "cell_type": "code",
   "execution_count": null,
   "metadata": {},
   "outputs": [],
   "source": []
  },
  {
   "cell_type": "code",
   "execution_count": null,
   "metadata": {},
   "outputs": [],
   "source": []
  },
  {
   "cell_type": "code",
   "execution_count": null,
   "metadata": {},
   "outputs": [],
   "source": []
  }
 ],
 "metadata": {
  "kernelspec": {
   "display_name": "Python 3",
   "language": "python",
   "name": "python3"
  },
  "language_info": {
   "codemirror_mode": {
    "name": "ipython",
    "version": 3
   },
   "file_extension": ".py",
   "mimetype": "text/x-python",
   "name": "python",
   "nbconvert_exporter": "python",
   "pygments_lexer": "ipython3",
   "version": "3.7.3"
  }
 },
 "nbformat": 4,
 "nbformat_minor": 4
}
